{
  "nbformat": 4,
  "nbformat_minor": 0,
  "metadata": {
    "colab": {
      "name": " Variáveis, Operações, Condições",
      "provenance": [],
      "collapsed_sections": []
    },
    "kernelspec": {
      "name": "python3",
      "display_name": "Python 3"
    },
    "language_info": {
      "name": "python"
    }
  },
  "cells": [
    {
      "cell_type": "code",
      "metadata": {
        "id": "-_Cph8rhFHUl",
        "colab": {
          "base_uri": "https://localhost:8080/"
        },
        "outputId": "b30799c5-6711-4e33-8b99-7fb070e42894"
      },
      "source": [
        "#implemente o exemplo de switch case acima usando as condições \"if/else\"\n",
        "#Prompt: para cada dígito entre 0-9, o programa imprimirá uma confirmação \n",
        "#para o valor inserido ou irá imprimir \"invalid inputs\" para todos os outros números.\"\"\"\n",
        "\n",
        "number = input(\"Dial a number\")\n",
        "\n",
        "if number == '0':\n",
        "    print(\"Entered 0\")\n",
        "elif number == '1':\n",
        "    print(\"Entered 1\")\n",
        "elif number == '2':\n",
        "    print(\"Entered 2\")\n",
        "elif number == '3':\n",
        "    print(\"Entered 3\")\n",
        "elif number == '4':\n",
        "    print(\"Entered 4\")\n",
        "elif number == '5':\n",
        "    print(\"Entered 5\")\n",
        "elif number == '6':\n",
        "    print(\"Entered 6\")\n",
        "elif number == '7':\n",
        "    print(\"Entered 7\")\n",
        "elif number == '8':\n",
        "    print(\"Entered 8\")\n",
        "elif number == '9':\n",
        "    print(\"Entered 9\")\n",
        "else:\n",
        "    print(\"Invalid number!\")"
      ],
      "execution_count": 3,
      "outputs": [
        {
          "output_type": "stream",
          "name": "stdout",
          "text": [
            "Dial a number 10\n",
            "Invalid number!\n"
          ]
        }
      ]
    }
  ]
}