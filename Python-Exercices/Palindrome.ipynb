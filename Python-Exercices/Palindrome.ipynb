{
  "nbformat": 4,
  "nbformat_minor": 0,
  "metadata": {
    "colab": {
      "name": "Palindrome",
      "provenance": [],
      "collapsed_sections": [],
      "toc_visible": true
    },
    "kernelspec": {
      "name": "python3",
      "display_name": "Python 3"
    },
    "language_info": {
      "name": "python"
    }
  },
  "cells": [
    {
      "cell_type": "code",
      "metadata": {
        "id": "-_Cph8rhFHUl",
        "colab": {
          "base_uri": "https://localhost:8080/"
        },
        "outputId": "696ca47b-8367-4e68-8207-bdcd62d89114"
      },
      "source": [
        "#escreva uma função para testar se uma palavra do usuário é um palíndromo. \n",
        "#As declarações de função são fornecidas para você.\"\"\"\n",
        "\n",
        "def isPalindrome(str):\n",
        "  str = str.lower()\n",
        "  if (str == str[::-1]):\n",
        "    return True\n",
        "  else:\n",
        "    return False\n",
        "\n",
        "\n",
        "# Solicitar ao usuário que introduza a sentença\n",
        "def main():\n",
        "  userInput = input(\"Enter a WORD to be tested as a palindrome:\")\n",
        "\n",
        "  if (isPalindrome(userInput)):\n",
        "    print(userInput + \" is a palindrome!\")\n",
        "  else:\n",
        "    print(userInput + \" is NOT a palindrome!\")\n",
        "    \n",
        "if __name__ == \"__main__\":\n",
        "    main()"
      ],
      "execution_count": 6,
      "outputs": [
        {
          "output_type": "stream",
          "name": "stdout",
          "text": [
            "Enter a WORD to be tested as a palindrome:asa\n",
            "asa is a palindrome!\n"
          ]
        }
      ]
    }
  ]
}